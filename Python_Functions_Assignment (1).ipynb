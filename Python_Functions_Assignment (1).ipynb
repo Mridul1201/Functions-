{
  "cells": [
    {
      "cell_type": "markdown",
      "metadata": {
        "id": "fa00b447"
      },
      "source": [
        "# Python Functions Assignment."
      ]
    },
    {
      "cell_type": "markdown",
      "metadata": {
        "id": "cbf590f6"
      },
      "source": [
        "### 1. What is the difference between a function and a method in Python?"
      ]
    },
    {
      "cell_type": "code",
      "execution_count": 1,
      "metadata": {
        "colab": {
          "base_uri": "https://localhost:8080/",
          "height": 108
        },
        "collapsed": true,
        "id": "a9d45e3f",
        "outputId": "6c3f1bce-8008-4a8f-f1e6-b28acbac870c"
      },
      "outputs": [
        {
          "output_type": "error",
          "ename": "SyntaxError",
          "evalue": "invalid syntax (<ipython-input-1-6fb61f9fb2f4>, line 1)",
          "traceback": [
            "\u001b[0;36m  File \u001b[0;32m\"<ipython-input-1-6fb61f9fb2f4>\"\u001b[0;36m, line \u001b[0;32m1\u001b[0m\n\u001b[0;31m    A **function** is a block of reusable code, defined using `def`, that performs a specific task.\u001b[0m\n\u001b[0m                   ^\u001b[0m\n\u001b[0;31mSyntaxError\u001b[0m\u001b[0;31m:\u001b[0m invalid syntax\n"
          ]
        }
      ],
      "source": [
        "A **function** is a block of reusable code, defined using `def`, that performs a specific task.\n",
        "A **method** is a function that is associated with an object and is called using dot notation.\n",
        "\n",
        "**Example:**\n",
        "```python\n",
        "def greet():\n",
        "    return 'Hello'\n",
        "\n",
        "message = greet()\n",
        "print(message)  # Function\n",
        "\n",
        "name = 'Ayush'\n",
        "print(name.upper())  # Method\n",
        "```"
      ]
    },
    {
      "cell_type": "markdown",
      "metadata": {
        "id": "48906e24"
      },
      "source": [
        "### 2. Explain the concept of function arguments and parameters in Python."
      ]
    },
    {
      "cell_type": "code",
      "execution_count": null,
      "metadata": {
        "id": "62f81367"
      },
      "outputs": [],
      "source": [
        "**Parameters** are variables listed inside the parentheses in the function definition.\n",
        "**Arguments** are the actual values passed to the function.\n",
        "\n",
        "**Example:**\n",
        "```python\n",
        "def add(a, b):  # a and b are parameters\n",
        "    return a + b\n",
        "\n",
        "result = add(3, 4)  # 3 and 4 are arguments\n",
        "```"
      ]
    },
    {
      "cell_type": "markdown",
      "metadata": {
        "id": "f656ffd6"
      },
      "source": [
        "### 3. What are the different ways to define and call a function in Python?"
      ]
    },
    {
      "cell_type": "code",
      "execution_count": null,
      "metadata": {
        "id": "1602f103"
      },
      "outputs": [],
      "source": [
        "You can define a function using `def`, and call it by its name with parentheses.\n",
        "\n",
        "**Example:**\n",
        "```python\n",
        "def say_hello():\n",
        "    print('Hello')\n",
        "\n",
        "say_hello()  # Calling the function\n",
        "```"
      ]
    },
    {
      "cell_type": "markdown",
      "metadata": {
        "id": "16507b65"
      },
      "source": [
        "### 4. What is the purpose of the `return` statement in a Python function?"
      ]
    },
    {
      "cell_type": "code",
      "execution_count": null,
      "metadata": {
        "id": "d5183260"
      },
      "outputs": [],
      "source": [
        "The `return` statement sends the result of the function back to the caller.\n",
        "\n",
        "**Example:**\n",
        "```python\n",
        "def square(x):\n",
        "    return x * x\n",
        "\n",
        "print(square(5))\n",
        "```"
      ]
    },
    {
      "cell_type": "markdown",
      "metadata": {
        "id": "8d7b8992"
      },
      "source": [
        "### 5. What are iterators in Python and how do they differ from iterables?"
      ]
    },
    {
      "cell_type": "code",
      "execution_count": null,
      "metadata": {
        "id": "4515eb1f"
      },
      "outputs": [],
      "source": [
        "An **iterable** is an object that can return an iterator (e.g., list, string).\n",
        "An **iterator** is an object with `__iter__()` and `__next__()` methods.\n",
        "\n",
        "**Example:**\n",
        "```python\n",
        "nums = [1, 2, 3]  # iterable\n",
        "it = iter(nums)  # iterator\n",
        "print(next(it))\n",
        "```"
      ]
    },
    {
      "cell_type": "markdown",
      "metadata": {
        "id": "13fc6d0d"
      },
      "source": [
        "### 6. Explain the concept of generators in Python and how they are defined."
      ]
    },
    {
      "cell_type": "code",
      "execution_count": null,
      "metadata": {
        "id": "e2b03efe"
      },
      "outputs": [],
      "source": [
        "Generators are functions that yield values one by one using `yield` keyword.\n",
        "\n",
        "**Example:**\n",
        "```python\n",
        "def countdown(n):\n",
        "    while n > 0:\n",
        "        yield n\n",
        "        n -= 1\n",
        "```"
      ]
    },
    {
      "cell_type": "markdown",
      "metadata": {
        "id": "876bb1d0"
      },
      "source": [
        "### 7. What are the advantages of using generators over regular functions?"
      ]
    },
    {
      "cell_type": "code",
      "execution_count": null,
      "metadata": {
        "id": "741f9479"
      },
      "outputs": [],
      "source": [
        "- Memory efficient (no need to store entire result in memory)\n",
        "- Lazy evaluation (yields values on demand)\n",
        "\n",
        "**Example:**\n",
        "```python\n",
        "def infinite_numbers():\n",
        "    n = 0\n",
        "    while True:\n",
        "        yield n\n",
        "        n += 1\n",
        "```"
      ]
    },
    {
      "cell_type": "markdown",
      "metadata": {
        "id": "ecf5c6f4"
      },
      "source": [
        "### 8. What is a lambda function in Python and when is it typically used?"
      ]
    },
    {
      "cell_type": "code",
      "execution_count": null,
      "metadata": {
        "id": "69617619"
      },
      "outputs": [],
      "source": [
        "Lambda is an anonymous function used for short, simple operations.\n",
        "\n",
        "**Example:**\n",
        "```python\n",
        "square = lambda x: x*x\n",
        "print(square(5))\n",
        "```"
      ]
    },
    {
      "cell_type": "markdown",
      "metadata": {
        "id": "955d08aa"
      },
      "source": [
        "### 9. Explain the purpose and usage of the `map()` function in Python."
      ]
    },
    {
      "cell_type": "code",
      "execution_count": null,
      "metadata": {
        "id": "037865b2"
      },
      "outputs": [],
      "source": [
        "`map()` applies a function to every item of an iterable.\n",
        "\n",
        "**Example:**\n",
        "```python\n",
        "nums = [1, 2, 3]\n",
        "squares = list(map(lambda x: x*x, nums))\n",
        "print(squares)\n",
        "```"
      ]
    },
    {
      "cell_type": "markdown",
      "metadata": {
        "id": "4283be7b"
      },
      "source": [
        "### 10. What is the difference between `map()`, `reduce()`, and `filter()` functions in Python?"
      ]
    },
    {
      "cell_type": "code",
      "execution_count": null,
      "metadata": {
        "id": "e506aa3e"
      },
      "outputs": [],
      "source": [
        "- `map()` transforms each item.\n",
        "- `filter()` selects items based on a condition.\n",
        "- `reduce()` combines items using a function.\n",
        "\n",
        "**Example:**\n",
        "```python\n",
        "from functools import reduce\n",
        "nums = [1, 2, 3, 4]\n",
        "sum_ = reduce(lambda x, y: x + y, nums)\n",
        "```"
      ]
    },
    {
      "cell_type": "markdown",
      "metadata": {
        "id": "995e1aca"
      },
      "source": [
        "### 11. Reduce Operation Mechanism on [47, 11, 42, 13]"
      ]
    },
    {
      "cell_type": "markdown",
      "metadata": {
        "id": "c02dcf24"
      },
      "source": [
        "*Please refer to attached image in the Colab for handwritten steps of reduce operation.*"
      ]
    },
    {
      "cell_type": "markdown",
      "metadata": {
        "id": "649f3a51"
      },
      "source": [
        "### Sum of even numbers in a list"
      ]
    },
    {
      "cell_type": "code",
      "execution_count": 3,
      "metadata": {
        "id": "1791cfa0"
      },
      "outputs": [],
      "source": [
        "def sum_even_numbers(lst):\n",
        "    return sum(num for num in lst if num % 2 == 0)"
      ]
    },
    {
      "cell_type": "markdown",
      "metadata": {
        "id": "184bf88e"
      },
      "source": [
        "### Reverse a string"
      ]
    },
    {
      "cell_type": "code",
      "execution_count": 4,
      "metadata": {
        "id": "ab57e255"
      },
      "outputs": [],
      "source": [
        "def reverse_string(s):\n",
        "    return s[::-1]"
      ]
    },
    {
      "cell_type": "markdown",
      "metadata": {
        "id": "4460d6d6"
      },
      "source": [
        "### Squares of a list"
      ]
    },
    {
      "cell_type": "code",
      "execution_count": 5,
      "metadata": {
        "id": "297b05a2"
      },
      "outputs": [],
      "source": [
        "def square_list(lst):\n",
        "    return [x**2 for x in lst]"
      ]
    },
    {
      "cell_type": "markdown",
      "metadata": {
        "id": "fa3a3fe3"
      },
      "source": [
        "### Prime check from 1 to 200"
      ]
    },
    {
      "cell_type": "code",
      "execution_count": 6,
      "metadata": {
        "colab": {
          "base_uri": "https://localhost:8080/"
        },
        "id": "2fee38c3",
        "outputId": "7594709b-a15e-4268-942f-ecd1e15da756"
      },
      "outputs": [
        {
          "output_type": "stream",
          "name": "stdout",
          "text": [
            "1: False\n",
            "2: True\n",
            "3: True\n",
            "4: False\n",
            "5: True\n",
            "6: False\n",
            "7: True\n",
            "8: False\n",
            "9: False\n",
            "10: False\n",
            "11: True\n",
            "12: False\n",
            "13: True\n",
            "14: False\n",
            "15: False\n",
            "16: False\n",
            "17: True\n",
            "18: False\n",
            "19: True\n",
            "20: False\n",
            "21: False\n",
            "22: False\n",
            "23: True\n",
            "24: False\n",
            "25: False\n",
            "26: False\n",
            "27: False\n",
            "28: False\n",
            "29: True\n",
            "30: False\n",
            "31: True\n",
            "32: False\n",
            "33: False\n",
            "34: False\n",
            "35: False\n",
            "36: False\n",
            "37: True\n",
            "38: False\n",
            "39: False\n",
            "40: False\n",
            "41: True\n",
            "42: False\n",
            "43: True\n",
            "44: False\n",
            "45: False\n",
            "46: False\n",
            "47: True\n",
            "48: False\n",
            "49: False\n",
            "50: False\n",
            "51: False\n",
            "52: False\n",
            "53: True\n",
            "54: False\n",
            "55: False\n",
            "56: False\n",
            "57: False\n",
            "58: False\n",
            "59: True\n",
            "60: False\n",
            "61: True\n",
            "62: False\n",
            "63: False\n",
            "64: False\n",
            "65: False\n",
            "66: False\n",
            "67: True\n",
            "68: False\n",
            "69: False\n",
            "70: False\n",
            "71: True\n",
            "72: False\n",
            "73: True\n",
            "74: False\n",
            "75: False\n",
            "76: False\n",
            "77: False\n",
            "78: False\n",
            "79: True\n",
            "80: False\n",
            "81: False\n",
            "82: False\n",
            "83: True\n",
            "84: False\n",
            "85: False\n",
            "86: False\n",
            "87: False\n",
            "88: False\n",
            "89: True\n",
            "90: False\n",
            "91: False\n",
            "92: False\n",
            "93: False\n",
            "94: False\n",
            "95: False\n",
            "96: False\n",
            "97: True\n",
            "98: False\n",
            "99: False\n",
            "100: False\n",
            "101: True\n",
            "102: False\n",
            "103: True\n",
            "104: False\n",
            "105: False\n",
            "106: False\n",
            "107: True\n",
            "108: False\n",
            "109: True\n",
            "110: False\n",
            "111: False\n",
            "112: False\n",
            "113: True\n",
            "114: False\n",
            "115: False\n",
            "116: False\n",
            "117: False\n",
            "118: False\n",
            "119: False\n",
            "120: False\n",
            "121: False\n",
            "122: False\n",
            "123: False\n",
            "124: False\n",
            "125: False\n",
            "126: False\n",
            "127: True\n",
            "128: False\n",
            "129: False\n",
            "130: False\n",
            "131: True\n",
            "132: False\n",
            "133: False\n",
            "134: False\n",
            "135: False\n",
            "136: False\n",
            "137: True\n",
            "138: False\n",
            "139: True\n",
            "140: False\n",
            "141: False\n",
            "142: False\n",
            "143: False\n",
            "144: False\n",
            "145: False\n",
            "146: False\n",
            "147: False\n",
            "148: False\n",
            "149: True\n",
            "150: False\n",
            "151: True\n",
            "152: False\n",
            "153: False\n",
            "154: False\n",
            "155: False\n",
            "156: False\n",
            "157: True\n",
            "158: False\n",
            "159: False\n",
            "160: False\n",
            "161: False\n",
            "162: False\n",
            "163: True\n",
            "164: False\n",
            "165: False\n",
            "166: False\n",
            "167: True\n",
            "168: False\n",
            "169: False\n",
            "170: False\n",
            "171: False\n",
            "172: False\n",
            "173: True\n",
            "174: False\n",
            "175: False\n",
            "176: False\n",
            "177: False\n",
            "178: False\n",
            "179: True\n",
            "180: False\n",
            "181: True\n",
            "182: False\n",
            "183: False\n",
            "184: False\n",
            "185: False\n",
            "186: False\n",
            "187: False\n",
            "188: False\n",
            "189: False\n",
            "190: False\n",
            "191: True\n",
            "192: False\n",
            "193: True\n",
            "194: False\n",
            "195: False\n",
            "196: False\n",
            "197: True\n",
            "198: False\n",
            "199: True\n",
            "200: False\n"
          ]
        }
      ],
      "source": [
        "def is_prime(n):\n",
        "    if n < 2:\n",
        "        return False\n",
        "    for i in range(2, int(n**0.5)+1):\n",
        "        if n % i == 0:\n",
        "            return False\n",
        "    return True\n",
        "\n",
        "for num in range(1, 201):\n",
        "    print(f'{num}: {is_prime(num)}')"
      ]
    },
    {
      "cell_type": "markdown",
      "metadata": {
        "id": "0ab828a6"
      },
      "source": [
        "### Fibonacci Iterator Class"
      ]
    },
    {
      "cell_type": "code",
      "execution_count": 8,
      "metadata": {
        "id": "65d15fda"
      },
      "outputs": [],
      "source": [
        "class Fibonacci:\n",
        "    def __init__(self, max_terms):\n",
        "        self.max_terms = max_terms\n",
        "        self.a, self.b = 0, 1\n",
        "        self.count = 0\n",
        "\n",
        "    def __iter__(self):\n",
        "        return self\n",
        "\n",
        "    def __next__(self):\n",
        "        if self.count >= self.max_terms:\n",
        "            raise StopIteration\n",
        "        self.a, self.b = self.b, self.a + self.b\n",
        "        self.count += 1\n",
        "        return self.a"
      ]
    },
    {
      "cell_type": "markdown",
      "metadata": {
        "id": "8dcddf55"
      },
      "source": [
        "### Generator: Powers of 2"
      ]
    },
    {
      "cell_type": "code",
      "execution_count": 9,
      "metadata": {
        "id": "d32c81d3"
      },
      "outputs": [],
      "source": [
        "def powers_of_two(exponent):\n",
        "    for i in range(exponent+1):\n",
        "        yield 2 ** i"
      ]
    },
    {
      "cell_type": "markdown",
      "metadata": {
        "id": "75e3e7ad"
      },
      "source": [
        "### File line-by-line generator"
      ]
    },
    {
      "cell_type": "code",
      "execution_count": 10,
      "metadata": {
        "id": "590dcaab"
      },
      "outputs": [],
      "source": [
        "def read_file_lines(filename):\n",
        "    with open(filename) as f:\n",
        "        for line in f:\n",
        "            yield line.strip()"
      ]
    },
    {
      "cell_type": "markdown",
      "metadata": {
        "id": "769f2bd6"
      },
      "source": [
        "### Sort list of tuples by second element"
      ]
    },
    {
      "cell_type": "code",
      "execution_count": 11,
      "metadata": {
        "colab": {
          "base_uri": "https://localhost:8080/"
        },
        "id": "b1e62d9d",
        "outputId": "f204dfc5-9ff3-459f-8a13-4cfa42dd959e"
      },
      "outputs": [
        {
          "output_type": "stream",
          "name": "stdout",
          "text": [
            "[(4, 1), (2, 2), (1, 3)]\n"
          ]
        }
      ],
      "source": [
        "tuples = [(1, 3), (4, 1), (2, 2)]\n",
        "sorted_tuples = sorted(tuples, key=lambda x: x[1])\n",
        "print(sorted_tuples)"
      ]
    },
    {
      "cell_type": "markdown",
      "metadata": {
        "id": "c25761d7"
      },
      "source": [
        "### Convert Celsius to Fahrenheit using map"
      ]
    },
    {
      "cell_type": "code",
      "execution_count": 12,
      "metadata": {
        "colab": {
          "base_uri": "https://localhost:8080/"
        },
        "id": "04d4bfe1",
        "outputId": "53721f35-b1e7-4138-abf3-924f9fdd4c08"
      },
      "outputs": [
        {
          "output_type": "stream",
          "name": "stdout",
          "text": [
            "[32.0, 68.0, 86.0, 104.0]\n"
          ]
        }
      ],
      "source": [
        "celsius = [0, 20, 30, 40]\n",
        "fahrenheit = list(map(lambda c: (9/5)*c + 32, celsius))\n",
        "print(fahrenheit)"
      ]
    },
    {
      "cell_type": "markdown",
      "metadata": {
        "id": "a16bc1e5"
      },
      "source": [
        "### Remove vowels using filter"
      ]
    },
    {
      "cell_type": "code",
      "execution_count": 13,
      "metadata": {
        "colab": {
          "base_uri": "https://localhost:8080/"
        },
        "id": "e35eae4f",
        "outputId": "97d5d338-c2d8-4d85-f53a-2132b80ff985"
      },
      "outputs": [
        {
          "output_type": "stream",
          "name": "stdout",
          "text": [
            "hll wrld\n"
          ]
        }
      ],
      "source": [
        "string = 'hello world'\n",
        "vowels = 'aeiou'\n",
        "no_vowels = ''.join(filter(lambda c: c not in vowels, string))\n",
        "print(no_vowels)"
      ]
    },
    {
      "cell_type": "markdown",
      "metadata": {
        "id": "2d0f2a01"
      },
      "source": [
        "### Accounting routine using map and lambda"
      ]
    },
    {
      "cell_type": "code",
      "execution_count": 14,
      "metadata": {
        "colab": {
          "base_uri": "https://localhost:8080/"
        },
        "id": "256e71a0",
        "outputId": "78a65058-a0e3-4c53-f81e-586071e07b1f"
      },
      "outputs": [
        {
          "output_type": "stream",
          "name": "stdout",
          "text": [
            "[(34587, 163.8), (98762, 97.5), (77226, 119.85000000000001), (88112, 70.0)]\n"
          ]
        }
      ],
      "source": [
        "orders = [\n",
        "    [34587, 'Learning Python', 4, 40.95],\n",
        "    [98762, 'Programming Java', 5, 17.50],\n",
        "    [77226, 'Data Structures', 3, 39.95],\n",
        "    [88112, 'Python DSA', 3, 20.00]\n",
        "]\n",
        "\n",
        "result = list(map(lambda order: (order[0], order[2]*order[3] if order[2]*order[3]>=100 else order[2]*order[3]+10), orders))\n",
        "print(result)"
      ]
    }
  ],
  "metadata": {
    "colab": {
      "provenance": []
    },
    "kernelspec": {
      "display_name": "Python 3",
      "language": "python",
      "name": "python3"
    },
    "language_info": {
      "name": "python",
      "version": "3.8"
    }
  },
  "nbformat": 4,
  "nbformat_minor": 0
}